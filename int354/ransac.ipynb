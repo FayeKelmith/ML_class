{
 "cells": [
  {
   "cell_type": "code",
   "execution_count": 2,
   "metadata": {},
   "outputs": [],
   "source": [
    "import numpy as np \n",
    "import matplotlib.pyplot as plt\n"
   ]
  },
  {
   "cell_type": "code",
   "execution_count": 3,
   "metadata": {},
   "outputs": [],
   "source": [
    "X = np.array([[1, 1], [1, 2], [2, 2], [2, 3]])\n",
    "y = np.dot(X, np.array([1, 2])) + 3"
   ]
  },
  {
   "cell_type": "code",
   "execution_count": 1,
   "metadata": {},
   "outputs": [],
   "source": [
    "from sklearn.linear_model import RANSACRegressor, LinearRegression\n",
    "\n",
    "ransac = RANSACRegressor(LinearRegression(),max_trials=100,min_samples=50,loss='absolute_loss',residual_threshold=5.0,random_state=0)"
   ]
  },
  {
   "cell_type": "markdown",
   "metadata": {},
   "source": [
    "# RANSAC\n",
    "RANSAC stands for Random Sample Consensus. It is an iterative algorithm used for robust estimation of parameters from a set of data points that may contain outliers. \n",
    "\n",
    "The main idea behind RANSAC is to randomly select a subset of data points, called the inliers, and fit a model to these points. The model is then used to classify the remaining data points as inliers or outliers based on a predefined threshold. This process is repeated multiple times, and the model with the highest number of inliers is considered the best fit.\n",
    "\n",
    "RANSAC is commonly used in computer vision and image processing tasks, such as line fitting, image stitching, and object recognition. It is particularly useful when dealing with data that contains a significant amount of noise or outliers.\n",
    "\n",
    "Here's a high-level overview of the RANSAC algorithm:\n",
    "\n",
    "1. Randomly select a subset of data points.\n",
    "2. Fit a model to the selected points.\n",
    "3. Classify the remaining data points as inliers or outliers based on the model and a predefined threshold.\n",
    "4. Repeat steps 1-3 for a specified number of iterations.\n",
    "5. Select the model with the highest number of inliers as the best fit.\n",
    "\n",
    "RANSAC is a powerful algorithm for robust parameter estimation, as it can handle data with outliers and provide reliable results. However, it does have some limitations, such as the need to specify the number of iterations and the threshold for classifying points as inliers or outliers. Additionally, the performance of RANSAC can be affected by the quality of the initial random sample and the choice of the model being fitted."
   ]
  },
  {
   "cell_type": "code",
   "execution_count": 4,
   "metadata": {},
   "outputs": [
    {
     "ename": "AttributeError",
     "evalue": "'RANSACRegressor' object has no attribute 'inlier_mask_'",
     "output_type": "error",
     "traceback": [
      "\u001b[0;31m---------------------------------------------------------------------------\u001b[0m",
      "\u001b[0;31mAttributeError\u001b[0m                            Traceback (most recent call last)",
      "Cell \u001b[0;32mIn[4], line 1\u001b[0m\n\u001b[0;32m----> 1\u001b[0m inlier_mask \u001b[38;5;241m=\u001b[39m \u001b[43mransac\u001b[49m\u001b[38;5;241;43m.\u001b[39;49m\u001b[43minlier_mask_\u001b[49m\n\u001b[1;32m      2\u001b[0m outlier_mask \u001b[38;5;241m=\u001b[39m np\u001b[38;5;241m.\u001b[39mlogical_not(inlier_mask)\n\u001b[1;32m      3\u001b[0m line_X \u001b[38;5;241m=\u001b[39m np\u001b[38;5;241m.\u001b[39marange(\u001b[38;5;241m3\u001b[39m,\u001b[38;5;241m10\u001b[39m,\u001b[38;5;241m1\u001b[39m)\n",
      "\u001b[0;31mAttributeError\u001b[0m: 'RANSACRegressor' object has no attribute 'inlier_mask_'"
     ]
    }
   ],
   "source": [
    "inlier_mask = ransac.inlier_mask_\n",
    "outlier_mask = np.logical_not(inlier_mask)\n",
    "line_X = np.arange(3,10,1)\n",
    "line_y_ransac = ransac.predict(line_X[:,np.newaxis])\n",
    "plt.scatter(X[inlier_mask],y[inlier_mask],color='yellowgreen',edgecolors=\"white\",marker='o',label='Inliers')\n",
    "plt.scatter(X[outlier_mask], y[outlier_mask],c=\"limegreen\",edgecolor=\"white\",marker='s',label='Outliers')\n",
    "plt.plot(line_X, line_y_ransac, color='cornflowerblue', linewidth=2, label='RANSAC regressor')\n",
    "plt.xlabel(\"Average number of rooms [RM]\")\n",
    "plt.ylabel(\"Price in $1000s [MEDV]\")\n",
    "plt.legend(loc='upper left')\n",
    "plt.show()"
   ]
  },
  {
   "cell_type": "code",
   "execution_count": 5,
   "metadata": {},
   "outputs": [
    {
     "ename": "AttributeError",
     "evalue": "'RANSACRegressor' object has no attribute 'estimator_'",
     "output_type": "error",
     "traceback": [
      "\u001b[0;31m---------------------------------------------------------------------------\u001b[0m",
      "\u001b[0;31mAttributeError\u001b[0m                            Traceback (most recent call last)",
      "Cell \u001b[0;32mIn[5], line 1\u001b[0m\n\u001b[0;32m----> 1\u001b[0m \u001b[38;5;28mprint\u001b[39m(\u001b[38;5;124m\"\u001b[39m\u001b[38;5;124mSlope: \u001b[39m\u001b[38;5;132;01m%.3f\u001b[39;00m\u001b[38;5;124m\"\u001b[39m \u001b[38;5;241m%\u001b[39m \u001b[43mransac\u001b[49m\u001b[38;5;241;43m.\u001b[39;49m\u001b[43mestimator_\u001b[49m\u001b[38;5;241m.\u001b[39mcoef_[\u001b[38;5;241m0\u001b[39m])\n",
      "\u001b[0;31mAttributeError\u001b[0m: 'RANSACRegressor' object has no attribute 'estimator_'"
     ]
    }
   ],
   "source": [
    "print(\"Slope: %.3f\".format(ransac.estimator_.coef_[0]))"
   ]
  },
  {
   "cell_type": "code",
   "execution_count": null,
   "metadata": {},
   "outputs": [],
   "source": [
    "print(\"Intercept: %.3f\" % ransac.estimator_.intercept_)"
   ]
  }
 ],
 "metadata": {
  "kernelspec": {
   "display_name": "venv",
   "language": "python",
   "name": "python3"
  },
  "language_info": {
   "codemirror_mode": {
    "name": "ipython",
    "version": 3
   },
   "file_extension": ".py",
   "mimetype": "text/x-python",
   "name": "python",
   "nbconvert_exporter": "python",
   "pygments_lexer": "ipython3",
   "version": "3.10.12"
  }
 },
 "nbformat": 4,
 "nbformat_minor": 2
}
