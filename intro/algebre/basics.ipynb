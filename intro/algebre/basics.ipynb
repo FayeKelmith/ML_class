{
 "cells": [
  {
   "cell_type": "code",
   "execution_count": 10,
   "metadata": {},
   "outputs": [
    {
     "data": {
      "text/plain": [
       "array([[6, 8, 7],\n",
       "       [5, 7, 9]])"
      ]
     },
     "execution_count": 10,
     "metadata": {},
     "output_type": "execute_result"
    }
   ],
   "source": [
    "import numpy as np \n",
    "x = np.array([[1,2,3],[4,5,6]])\n",
    "y = np.array([[5,6,4],[1,2,3]])\n",
    "x+y"
   ]
  },
  {
   "cell_type": "code",
   "execution_count": 11,
   "metadata": {},
   "outputs": [
    {
     "data": {
      "text/plain": [
       "array([[13, 18, 17],\n",
       "       [14, 19, 24]])"
      ]
     },
     "execution_count": 11,
     "metadata": {},
     "output_type": "execute_result"
    }
   ],
   "source": [
    "alpha = 3\n",
    "beta = 2\n",
    "z = np.add(np.multiply(alpha,x),np.multiply(beta,y))\n",
    "z\n"
   ]
  },
  {
   "cell_type": "code",
   "execution_count": 13,
   "metadata": {},
   "outputs": [
    {
     "data": {
      "text/plain": [
       "array([[ 9, 14, 16],\n",
       "       [15, 22, 23],\n",
       "       [21, 30, 30]])"
      ]
     },
     "execution_count": 13,
     "metadata": {},
     "output_type": "execute_result"
    }
   ],
   "source": [
    "x.T@y"
   ]
  },
  {
   "cell_type": "markdown",
   "metadata": {},
   "source": [
    "## Normalising vectors : L2 norm (), L1 norm (Manhattan Norm), and max norm\n",
    "- L2 norm is also known as Euclidean norm\n",
    "- L1 norm is also known as Manhattan norm\n",
    "- Max norm is also known as infinity norm\n",
    "\n",
    "## Details on Norms\n",
    "- L1 norm is used when the difference between the values is more important than the actual values\n",
    "- Max norm is used when only the maximum value is important\n",
    "\n",
    "## L2 norm (Euclidean norm)\n",
    "- It is the most commonly used norm\n",
    "- It is the square root of the sum of the squared vector values\n",
    "- Example: L2 norm of [x,y,z] = sqrt(x^2 + y^2 + z^2)\n",
    "- Implementation: norm(vector, 2)\n",
    "  \n",
    "## L1 norm (Manhattan norm)\n",
    "- It is the sum of the absolute vector values\n",
    "- Example: L1 norm of [x,y,z] = |x| + |y| + |z|\n",
    "- Implementation: norm(vector, 1)\n",
    "- It is used when the difference between the values is more important than the actual values\n",
    "\n",
    "## Max norm (infinity norm)\n",
    "- It is the maximum vector values\n",
    "- Example: L1 norm of [x,y,z] = max(|x|, |y|, |z|)\n",
    "- Implementation: norm(vector, inf)\n",
    "- It is used when only the maximum value is important\n",
    "- It is also used in neural networks\n",
    "- "
   ]
  },
  {
   "cell_type": "code",
   "execution_count": 24,
   "metadata": {},
   "outputs": [
    {
     "data": {
      "text/plain": [
       "7.745966692414834"
      ]
     },
     "execution_count": 24,
     "metadata": {},
     "output_type": "execute_result"
    }
   ],
   "source": [
    "#implementation of L2 norm\n",
    "a = np.array([[3],[-4]])\n",
    "b = np.array([[12],[-5]])\n",
    "def L2_norm(x):\n",
    "    return np.sqrt(np.sum(np.square(x)))\n",
    "def L2_norm_alt(x):\n",
    "    return np.linalg.norm(x,ord=2)\n",
    "\n",
    "#implementation of L1 norm\n",
    "def L1_norm(x):\n",
    "    return np.sum(np.abs(x))\n",
    "def L1_norm_alt(x):\n",
    "    return np.linalg.norm(x,ord=1)\n",
    "\n",
    "#Max norm (infinity norm)\n",
    "def max_norm(x):\n",
    "    return np.max(np.abs(x))\n",
    "def max_norm_alt(x):\n",
    "    return np.linalg.norm(x,ord=np.inf)\n",
    "\n",
    "distance_x_y = L2_norm(x-y)\n",
    "distance_x_y\n"
   ]
  },
  {
   "cell_type": "code",
   "execution_count": 35,
   "metadata": {},
   "outputs": [
    {
     "data": {
      "text/plain": [
       "array([[30.51023741]])"
      ]
     },
     "execution_count": 35,
     "metadata": {},
     "output_type": "execute_result"
    }
   ],
   "source": [
    "cos_theta = (a.T@b)/(L2_norm(a)*L2_norm(b))\n",
    "angle = np.arccos(cos_theta)\n",
    "angle*180/np.pi\n",
    "# cos_theta"
   ]
  }
 ],
 "metadata": {
  "kernelspec": {
   "display_name": "venv",
   "language": "python",
   "name": "python3"
  },
  "language_info": {
   "codemirror_mode": {
    "name": "ipython",
    "version": 3
   },
   "file_extension": ".py",
   "mimetype": "text/x-python",
   "name": "python",
   "nbconvert_exporter": "python",
   "pygments_lexer": "ipython3",
   "version": "3.10.12"
  }
 },
 "nbformat": 4,
 "nbformat_minor": 2
}
